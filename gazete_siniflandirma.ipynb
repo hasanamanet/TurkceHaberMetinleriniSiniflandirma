{
 "cells": [
  {
   "cell_type": "code",
   "execution_count": 1,
   "metadata": {},
   "outputs": [],
   "source": [
    "import pandas as pd\n",
    "import numpy as np\n",
    "from sklearn.feature_extraction.text import CountVectorizer, TfidfTransformer\n",
    "from sklearn.model_selection import train_test_split\n",
    "from sklearn.naive_bayes import MultinomialNB\n",
    "from sklearn.metrics import classification_report"
   ]
  },
  {
   "cell_type": "code",
   "execution_count": 2,
   "metadata": {},
   "outputs": [
    {
     "data": {
      "text/html": [
       "<div>\n",
       "<style scoped>\n",
       "    .dataframe tbody tr th:only-of-type {\n",
       "        vertical-align: middle;\n",
       "    }\n",
       "\n",
       "    .dataframe tbody tr th {\n",
       "        vertical-align: top;\n",
       "    }\n",
       "\n",
       "    .dataframe thead th {\n",
       "        text-align: right;\n",
       "    }\n",
       "</style>\n",
       "<table border=\"1\" class=\"dataframe\">\n",
       "  <thead>\n",
       "    <tr style=\"text-align: right;\">\n",
       "      <th></th>\n",
       "      <th>kategori</th>\n",
       "      <th>icerik</th>\n",
       "    </tr>\n",
       "  </thead>\n",
       "  <tbody>\n",
       "    <tr>\n",
       "      <th>0</th>\n",
       "      <td>magazin</td>\n",
       "      <td>SAPIĞIN BİLE GURURSUZU BANA DENK GELDİ Ece Erk...</td>\n",
       "    </tr>\n",
       "    <tr>\n",
       "      <th>1</th>\n",
       "      <td>magazin</td>\n",
       "      <td>Çekim dönüşü Kenan İmirzalıoğlu, geçtiğimiz ak...</td>\n",
       "    </tr>\n",
       "    <tr>\n",
       "      <th>2</th>\n",
       "      <td>magazin</td>\n",
       "      <td>Paylaştığı fotoğraf Twitter'da olay oldu! Vict...</td>\n",
       "    </tr>\n",
       "    <tr>\n",
       "      <th>3</th>\n",
       "      <td>magazin</td>\n",
       "      <td>DANIŞTAY, 5 DAKİKA SEVİŞMEYİ UZUN BULDU Danışt...</td>\n",
       "    </tr>\n",
       "    <tr>\n",
       "      <th>4</th>\n",
       "      <td>magazin</td>\n",
       "      <td>Yağmur ve Emre dudak dudağa Kanal D'nin yeni y...</td>\n",
       "    </tr>\n",
       "  </tbody>\n",
       "</table>\n",
       "</div>"
      ],
      "text/plain": [
       "  kategori                                             icerik\n",
       "0  magazin  SAPIĞIN BİLE GURURSUZU BANA DENK GELDİ Ece Erk...\n",
       "1  magazin  Çekim dönüşü Kenan İmirzalıoğlu, geçtiğimiz ak...\n",
       "2  magazin  Paylaştığı fotoğraf Twitter'da olay oldu! Vict...\n",
       "3  magazin  DANIŞTAY, 5 DAKİKA SEVİŞMEYİ UZUN BULDU Danışt...\n",
       "4  magazin  Yağmur ve Emre dudak dudağa Kanal D'nin yeni y..."
      ]
     },
     "execution_count": 2,
     "metadata": {},
     "output_type": "execute_result"
    }
   ],
   "source": [
    "df = pd.read_excel(\"data/gazete.xlsx\")\n",
    "df.head()"
   ]
  },
  {
   "cell_type": "code",
   "execution_count": 3,
   "metadata": {},
   "outputs": [
    {
     "name": "stdout",
     "output_type": "stream",
     "text": [
      "       kategori                                             icerik\n",
      "5557  teknoloji  assassin's creed 4 black flag geliyor popüler ...\n",
      "5558  teknoloji  doodle 4 google logo yarışması başlıyor google...\n",
      "5559  teknoloji  robot savaşları mümkün günümüzde insansız sava...\n",
      "5560  teknoloji  chrome yenilendi chrome'un son final sürümü ya...\n",
      "5561  teknoloji  dünyanın yeni korkusu siber savaş hafta önce m...\n",
      "5562  teknoloji  osmanlı'nın savaşları oyun oluyor osmanlı i̇mp...\n",
      "5563  teknoloji  i̇nsan beyninin ayrıntılı görüntüleri yayınlan...\n",
      "5564  teknoloji  merkel cebit'te selocan'ın elini sıktı turkcel...\n",
      "5565  teknoloji  meclis cep telefonuna sığdırıldı milletvekille...\n",
      "5566  teknoloji  binlerce hesap resetlendi twitter güvenlik ned...\n",
      "5567  teknoloji  photoshop'un yeni mobil sürümü yayında yeni uy...\n",
      "5568  teknoloji  i̇ki kuyruklu yıldız aynı karede gökyüzünde sı...\n",
      "5569  teknoloji  galaxy s4'e gözle kontrol geliyor bir samsung ...\n",
      "5570  teknoloji  apple iphone hangi isimleri düşünmüş iphone pi...\n",
      "5571  teknoloji  samsung galaxy note 2'de güvenlik açığı galaxy...\n",
      "5572  teknoloji  microsoft'a rağır ceza ab komisyonu microsoft...\n",
      "5573  teknoloji  microsoft'a ağır ceza ab komisyonu microsofta...\n",
      "5574  teknoloji  bizi bizden iyi tanıyorlar ellerinde müthiş ve...\n",
      "5575  teknoloji  facebook paralı oldu facebook'ta arkadaş liste...\n",
      "5576  teknoloji  samsung'a karşı güç birliği nokia küresel elek...\n"
     ]
    }
   ],
   "source": [
    "import nltk\n",
    "import re\n",
    "stop_word_list = nltk.corpus.stopwords.words('turkish')\n",
    "\n",
    "docs = df['icerik']\n",
    "docs = docs.map(lambda x: re.sub(r\"[-()\\\"#/@;:<>{}+=~|.!?,]\", '', x))\n",
    "docs = docs.map(lambda x: x.lower())\n",
    "docs = docs.map(lambda x: x.strip())\n",
    "\n",
    "def token(values):\n",
    "    filtered_words = [word for word in values.split() if word not in stop_word_list]\n",
    "    not_stopword_doc = \" \".join(filtered_words)\n",
    "    return not_stopword_doc\n",
    "\n",
    "\n",
    "docs = docs.map(lambda x: token(x))\n",
    "df['icerik'] = docs\n",
    "print(df.tail(20))\n"
   ]
  },
  {
   "cell_type": "code",
   "execution_count": 4,
   "metadata": {},
   "outputs": [
    {
     "data": {
      "text/plain": [
       "0    0\n",
       "1    0\n",
       "2    0\n",
       "3    0\n",
       "4    0\n",
       "5    0\n",
       "6    0\n",
       "7    0\n",
       "8    0\n",
       "9    0\n",
       "Name: kategori_id, dtype: int64"
      ]
     },
     "execution_count": 4,
     "metadata": {},
     "output_type": "execute_result"
    }
   ],
   "source": [
    "df[\"kategori_id\"] = df[\"kategori\"].factorize()[0]\n",
    "df['kategori_id'][0:10]"
   ]
  },
  {
   "cell_type": "code",
   "execution_count": 5,
   "metadata": {},
   "outputs": [
    {
     "data": {
      "text/html": [
       "<div>\n",
       "<style scoped>\n",
       "    .dataframe tbody tr th:only-of-type {\n",
       "        vertical-align: middle;\n",
       "    }\n",
       "\n",
       "    .dataframe tbody tr th {\n",
       "        vertical-align: top;\n",
       "    }\n",
       "\n",
       "    .dataframe thead th {\n",
       "        text-align: right;\n",
       "    }\n",
       "</style>\n",
       "<table border=\"1\" class=\"dataframe\">\n",
       "  <thead>\n",
       "    <tr style=\"text-align: right;\">\n",
       "      <th></th>\n",
       "      <th>kategori</th>\n",
       "      <th>kategori_id</th>\n",
       "    </tr>\n",
       "  </thead>\n",
       "  <tbody>\n",
       "    <tr>\n",
       "      <th>0</th>\n",
       "      <td>magazin</td>\n",
       "      <td>0</td>\n",
       "    </tr>\n",
       "    <tr>\n",
       "      <th>1099</th>\n",
       "      <td>dunya</td>\n",
       "      <td>1</td>\n",
       "    </tr>\n",
       "    <tr>\n",
       "      <th>2132</th>\n",
       "      <td>spor</td>\n",
       "      <td>2</td>\n",
       "    </tr>\n",
       "    <tr>\n",
       "      <th>3021</th>\n",
       "      <td>siyaset</td>\n",
       "      <td>3</td>\n",
       "    </tr>\n",
       "    <tr>\n",
       "      <th>4039</th>\n",
       "      <td>kultur-sanat</td>\n",
       "      <td>4</td>\n",
       "    </tr>\n",
       "    <tr>\n",
       "      <th>4943</th>\n",
       "      <td>teknoloji</td>\n",
       "      <td>5</td>\n",
       "    </tr>\n",
       "  </tbody>\n",
       "</table>\n",
       "</div>"
      ],
      "text/plain": [
       "          kategori  kategori_id\n",
       "0          magazin            0\n",
       "1099         dunya            1\n",
       "2132          spor            2\n",
       "3021       siyaset            3\n",
       "4039  kultur-sanat            4\n",
       "4943     teknoloji            5"
      ]
     },
     "execution_count": 5,
     "metadata": {},
     "output_type": "execute_result"
    }
   ],
   "source": [
    "kategori_id_df = df[['kategori', 'kategori_id']].drop_duplicates().sort_values('kategori_id')\n",
    "kategori_id_df"
   ]
  },
  {
   "cell_type": "code",
   "execution_count": 6,
   "metadata": {},
   "outputs": [
    {
     "data": {
      "text/plain": [
       "{0: 'magazin',\n",
       " 1: 'dunya',\n",
       " 2: 'spor',\n",
       " 3: 'siyaset',\n",
       " 4: 'kultur-sanat',\n",
       " 5: 'teknoloji'}"
      ]
     },
     "execution_count": 6,
     "metadata": {},
     "output_type": "execute_result"
    }
   ],
   "source": [
    "kategori_to_id = dict(kategori_id_df.values)\n",
    "id_to_kategori = dict(kategori_id_df[['kategori_id', 'kategori']].values)\n",
    "id_to_kategori"
   ]
  },
  {
   "cell_type": "code",
   "execution_count": 7,
   "metadata": {},
   "outputs": [
    {
     "data": {
      "text/plain": [
       "<matplotlib.axes._subplots.AxesSubplot at 0x2553357ed08>"
      ]
     },
     "execution_count": 7,
     "metadata": {},
     "output_type": "execute_result"
    }
   ],
   "source": [
    "df.groupby('kategori').kategori_id.count().plot.bar(ylim=0)"
   ]
  },
  {
   "cell_type": "code",
   "execution_count": 8,
   "metadata": {},
   "outputs": [
    {
     "data": {
      "text/html": [
       "<div>\n",
       "<style scoped>\n",
       "    .dataframe tbody tr th:only-of-type {\n",
       "        vertical-align: middle;\n",
       "    }\n",
       "\n",
       "    .dataframe tbody tr th {\n",
       "        vertical-align: top;\n",
       "    }\n",
       "\n",
       "    .dataframe thead th {\n",
       "        text-align: right;\n",
       "    }\n",
       "</style>\n",
       "<table border=\"1\" class=\"dataframe\">\n",
       "  <thead>\n",
       "    <tr style=\"text-align: right;\">\n",
       "      <th></th>\n",
       "      <th>kategori</th>\n",
       "      <th>icerik</th>\n",
       "      <th>kategori_id</th>\n",
       "    </tr>\n",
       "  </thead>\n",
       "  <tbody>\n",
       "    <tr>\n",
       "      <th>0</th>\n",
       "      <td>magazin</td>\n",
       "      <td>sapiğin bi̇le gurursuzu bana denk geldi̇ ece e...</td>\n",
       "      <td>0</td>\n",
       "    </tr>\n",
       "    <tr>\n",
       "      <th>1</th>\n",
       "      <td>magazin</td>\n",
       "      <td>çekim dönüşü kenan i̇mirzalıoğlu geçtiğimiz ak...</td>\n",
       "      <td>0</td>\n",
       "    </tr>\n",
       "    <tr>\n",
       "      <th>2</th>\n",
       "      <td>magazin</td>\n",
       "      <td>paylaştığı fotoğraf twitter'da olay oldu victo...</td>\n",
       "      <td>0</td>\n",
       "    </tr>\n",
       "    <tr>\n",
       "      <th>3</th>\n",
       "      <td>magazin</td>\n",
       "      <td>daniştay 5 daki̇ka sevi̇şmeyi̇ uzun buldu danı...</td>\n",
       "      <td>0</td>\n",
       "    </tr>\n",
       "    <tr>\n",
       "      <th>4</th>\n",
       "      <td>magazin</td>\n",
       "      <td>yağmur emre dudak dudağa kanal d'nin yeni yıld...</td>\n",
       "      <td>0</td>\n",
       "    </tr>\n",
       "  </tbody>\n",
       "</table>\n",
       "</div>"
      ],
      "text/plain": [
       "  kategori                                             icerik  kategori_id\n",
       "0  magazin  sapiğin bi̇le gurursuzu bana denk geldi̇ ece e...            0\n",
       "1  magazin  çekim dönüşü kenan i̇mirzalıoğlu geçtiğimiz ak...            0\n",
       "2  magazin  paylaştığı fotoğraf twitter'da olay oldu victo...            0\n",
       "3  magazin  daniştay 5 daki̇ka sevi̇şmeyi̇ uzun buldu danı...            0\n",
       "4  magazin  yağmur emre dudak dudağa kanal d'nin yeni yıld...            0"
      ]
     },
     "execution_count": 8,
     "metadata": {},
     "output_type": "execute_result"
    }
   ],
   "source": [
    "df.head()"
   ]
  },
  {
   "cell_type": "code",
   "execution_count": 9,
   "metadata": {},
   "outputs": [],
   "source": [
    "X = df[\"icerik\"]\n",
    "y = df[\"kategori_id\"]"
   ]
  },
  {
   "cell_type": "code",
   "execution_count": 10,
   "metadata": {},
   "outputs": [],
   "source": [
    "X_train, X_test, y_train, y_test = train_test_split(X, y, test_size = 0.33, random_state = 42)"
   ]
  },
  {
   "cell_type": "code",
   "execution_count": 11,
   "metadata": {},
   "outputs": [],
   "source": [
    "from sklearn.pipeline import Pipeline\n",
    "text_clf = Pipeline([('vect', CountVectorizer()),\n",
    "                    ('tfidf', TfidfTransformer()),\n",
    "                    ('clf', MultinomialNB()),\n",
    "                     ])"
   ]
  },
  {
   "cell_type": "code",
   "execution_count": 12,
   "metadata": {},
   "outputs": [
    {
     "data": {
      "text/plain": [
       "0.8680065181966322"
      ]
     },
     "execution_count": 12,
     "metadata": {},
     "output_type": "execute_result"
    }
   ],
   "source": [
    "text_clf.fit(X_train, y_train)\n",
    "text_clf.score(X_test, y_test)"
   ]
  },
  {
   "cell_type": "code",
   "execution_count": 13,
   "metadata": {},
   "outputs": [
    {
     "name": "stdout",
     "output_type": "stream",
     "text": [
      "              precision    recall  f1-score   support\n",
      "\n",
      "           0       0.85      0.88      0.86       393\n",
      "           1       0.82      0.90      0.86       340\n",
      "           2       0.97      0.92      0.95       292\n",
      "           3       0.83      0.92      0.88       327\n",
      "           4       0.85      0.83      0.84       299\n",
      "           5       0.97      0.68      0.80       190\n",
      "\n",
      "    accuracy                           0.87      1841\n",
      "   macro avg       0.88      0.85      0.86      1841\n",
      "weighted avg       0.87      0.87      0.87      1841\n",
      "\n"
     ]
    }
   ],
   "source": [
    "y_pred = text_clf.predict(X_test)\n",
    "print(classification_report(y_test, y_pred))"
   ]
  },
  {
   "cell_type": "code",
   "execution_count": 14,
   "metadata": {},
   "outputs": [
    {
     "name": "stderr",
     "output_type": "stream",
     "text": [
      "c:\\users\\hasan\\appdata\\local\\programs\\python\\python37\\lib\\site-packages\\sklearn\\externals\\joblib\\__init__.py:15: FutureWarning: sklearn.externals.joblib is deprecated in 0.21 and will be removed in 0.23. Please import this functionality directly from joblib, which can be installed with: pip install joblib. If this warning is raised when loading pickled models, you may need to re-serialize those models with scikit-learn 0.21+.\n",
      "  warnings.warn(msg, category=FutureWarning)\n"
     ]
    },
    {
     "data": {
      "text/plain": [
       "['NB_gazete_model.pkl']"
      ]
     },
     "execution_count": 14,
     "metadata": {},
     "output_type": "execute_result"
    }
   ],
   "source": [
    "from sklearn.externals import joblib\n",
    "joblib.dump(text_clf, \"NB_gazete_model.pkl\")"
   ]
  },
  {
   "cell_type": "code",
   "execution_count": 15,
   "metadata": {},
   "outputs": [],
   "source": [
    "NB_gazete_model = open(\"NB_gazete_model.pkl\",\"rb\")\n",
    "model = joblib.load(NB_gazete_model)"
   ]
  },
  {
   "cell_type": "code",
   "execution_count": 21,
   "metadata": {},
   "outputs": [
    {
     "data": {
      "text/plain": [
       "0"
      ]
     },
     "execution_count": 21,
     "metadata": {},
     "output_type": "execute_result"
    }
   ],
   "source": [
    "text = \"\"\"aptığı ve düzenlediği yardımlarla sık sık konuşulan Haluk Levent, Twitter hesabından, \"Bir bayram günü kostümü! Bayramınız kutlu olsun\" ifadeleriyle hem Ramazan Bayramını kutladı hem de geçmiş yıllara ait bir fotoğrafını paylaştı. Levent'in takipçilerinin büyük ilgi gösterdiği fotoğraf yaklaşık 55 bin beğeni alırken, Haluk Levent'e yanıt türkücü Mahsun Kırmızıgül'den geldi.\n",
    "Yıllar öncesine ait albüm fotoğraflarını Twitter'dan paylaşan Mahsun Kırmızıgül, \"Alem yakışıklı görsün. @haluklevent senden daha beterleri var. Bu resimler çekildiğinde ilk heyecanları yaşıyorduk. Hey gidi günler hey\" ifadelerini kullandı.\n",
    "\"\"\"\n",
    "data = [text]\n",
    "model.predict(data)[0]\n"
   ]
  },
  {
   "cell_type": "code",
   "execution_count": 23,
   "metadata": {},
   "outputs": [
    {
     "name": "stdout",
     "output_type": "stream",
     "text": [
      "2\n"
     ]
    }
   ],
   "source": [
    "text1 = \"\"\"Wesley Sneijder Galatasaray'a yardımcı antrenör olarak geri dönüyor\n",
    "Galatasaray'da Hasan Şaş'ın istifasının ardından boşalan yardımcı antrenörlük görevine sarı kırmızılıların eski yıldızı Wesley Sneijder'in getirileceği iddia edildi.\n",
    "\"\"\"\n",
    "data = [text1]\n",
    "print(model.predict(data)[0])"
   ]
  },
  {
   "cell_type": "code",
   "execution_count": 32,
   "metadata": {},
   "outputs": [
    {
     "name": "stdout",
     "output_type": "stream",
     "text": [
      "[1]\n"
     ]
    }
   ],
   "source": [
    "text2 = \"\"\"Avrupa'da salgınının en son ulaştığı ülke olan Karadağ'da koronavirüs vakası kalmadı\n",
    "Dünya genelinde yeni tip koronavirüs salgınında hayatını kaybedenlerin sayısı 345 bini aşarken, iyileşen sayısı da 2 milyon 290 bine yaklaştı. Avrupa'da salgınının en son ulaştığı ülke olan Karadağ'da ise aktif vaka kalmadı.\"\"\"\n",
    "\n",
    "data = [text2]\n",
    "\n",
    "print(model.predict(data))"
   ]
  },
  {
   "cell_type": "code",
   "execution_count": null,
   "metadata": {},
   "outputs": [],
   "source": []
  }
 ],
 "metadata": {
  "kernelspec": {
   "display_name": "Python 3",
   "language": "python",
   "name": "python3"
  },
  "language_info": {
   "codemirror_mode": {
    "name": "ipython",
    "version": 3
   },
   "file_extension": ".py",
   "mimetype": "text/x-python",
   "name": "python",
   "nbconvert_exporter": "python",
   "pygments_lexer": "ipython3",
   "version": "3.7.7"
  }
 },
 "nbformat": 4,
 "nbformat_minor": 2
}
